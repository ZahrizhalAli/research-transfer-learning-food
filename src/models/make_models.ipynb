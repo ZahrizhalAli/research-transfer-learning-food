{
 "cells": [
  {
   "cell_type": "code",
   "execution_count": 40,
   "id": "4fb16099",
   "metadata": {},
   "outputs": [],
   "source": [
    "import tensorflow as tf\n",
    "import numpy as np\n",
    "import pandas as pd\n",
    "import tensorflow_datasets as tfds\n",
    "import sys\n",
    "import matplotlib.pyplot as plt\n",
    "from tensorflow.keras.layers import Conv2D, MaxPool2D, Flatten, Dropout, Dense\n",
    "from tensorflow.keras.preprocessing.image import ImageDataGenerator\n",
    "sys.path.append('../data/')\n",
    "import make_dataset"
   ]
  },
  {
   "cell_type": "markdown",
   "id": "c37e704c",
   "metadata": {},
   "source": [
    "# Naming Convention\n",
    "\n",
    "Log_CSV = log_csv_exp[num].log\n",
    "\n",
    "Model = model_exp[num]_[tf-learning]/simple.h5\n"
   ]
  },
  {
   "cell_type": "markdown",
   "id": "88268997",
   "metadata": {},
   "source": [
    "# Simple model baseline\n",
    "\n",
    "model baseline accuracy = 60%"
   ]
  },
  {
   "cell_type": "code",
   "execution_count": 42,
   "id": "777b21b7",
   "metadata": {},
   "outputs": [],
   "source": [
    "DATA_DIR = \"../../data/interim/archive/images/\"\n",
    "BATCH_SIZE = 10\n",
    "SPLIT_SIZE = 0.3\n",
    "\n",
    "\n",
    "OUTPUT_FIGURE_DIR = \"../../reports/figures\""
   ]
  },
  {
   "cell_type": "code",
   "execution_count": 20,
   "id": "67d74168",
   "metadata": {},
   "outputs": [],
   "source": [
    "def train_val_generators(DATA_DIR, SPLIT_SIZE, NUM_BATCHES):\n",
    "    \"\"\"\n",
    "\n",
    "    :param DATA_DIR: Directory of the datasets was taken from (string)\n",
    "    :param SPLIT_SIZE: Split size of test set. (float)\n",
    "    :param NUM_BATCHES: Amount of batch size\n",
    "    :return:\n",
    "    \"\"\"\n",
    "    datagen = ImageDataGenerator(rescale=1. / 255, validation_split=SPLIT_SIZE)\n",
    "    train_generator = datagen.flow_from_directory(directory=DATA_DIR,\n",
    "                                                  batch_size=NUM_BATCHES,\n",
    "                                                  class_mode='categorical',\n",
    "                                                  target_size=(300, 300),\n",
    "                                                  subset='training',\n",
    "                                                    shuffle = True,\n",
    "\n",
    "    )\n",
    "\n",
    "    validation_generator = datagen.flow_from_directory(directory=DATA_DIR,\n",
    "                                                       subset='validation',\n",
    "                                                       batch_size=NUM_BATCHES,\n",
    "                                                       class_mode='categorical',\n",
    "                                                       shuffle=True,\n",
    "                                                       target_size=(300, 300))\n",
    "\n",
    "    return train_generator, validation_generator"
   ]
  },
  {
   "cell_type": "code",
   "execution_count": 21,
   "id": "852b265c",
   "metadata": {},
   "outputs": [
    {
     "name": "stdout",
     "output_type": "stream",
     "text": [
      "Found 70700 images belonging to 101 classes.\n",
      "Found 30300 images belonging to 101 classes.\n"
     ]
    }
   ],
   "source": [
    "train_ds, test_ds = train_val_generators(DATA_DIR, SPLIT_SIZE, BATCH_SIZE)"
   ]
  },
  {
   "cell_type": "markdown",
   "id": "4a66bdf6",
   "metadata": {},
   "source": [
    "# Callbacks"
   ]
  },
  {
   "cell_type": "code",
   "execution_count": 25,
   "id": "97c63acc",
   "metadata": {},
   "outputs": [],
   "source": [
    "csv_logger = tf.keras.callbacks.CSVLogger('log_csv_exp1.log')"
   ]
  },
  {
   "cell_type": "markdown",
   "id": "1dc3b885",
   "metadata": {},
   "source": [
    "# Model_1 (DONE : no need to re run)"
   ]
  },
  {
   "cell_type": "code",
   "execution_count": 34,
   "id": "f5e6a462",
   "metadata": {},
   "outputs": [],
   "source": [
    "OPTIMIZER = 'adam'\n",
    "LOSS = 'categorical_crossentropy'\n",
    "METRICS = ['accuracy']"
   ]
  },
  {
   "cell_type": "code",
   "execution_count": 36,
   "id": "624971e1",
   "metadata": {},
   "outputs": [
    {
     "name": "stdout",
     "output_type": "stream",
     "text": [
      "Model: \"sequential_6\"\n",
      "_________________________________________________________________\n",
      " Layer (type)                Output Shape              Param #   \n",
      "=================================================================\n",
      " conv2d_5 (Conv2D)           (None, 298, 298, 32)      896       \n",
      "                                                                 \n",
      " max_pooling2d_3 (MaxPooling  (None, 149, 149, 32)     0         \n",
      " 2D)                                                             \n",
      "                                                                 \n",
      " flatten_3 (Flatten)         (None, 710432)            0         \n",
      "                                                                 \n",
      " dense_6 (Dense)             (None, 128)               90935424  \n",
      "                                                                 \n",
      " dropout_3 (Dropout)         (None, 128)               0         \n",
      "                                                                 \n",
      " dense_7 (Dense)             (None, 101)               13029     \n",
      "                                                                 \n",
      "=================================================================\n",
      "Total params: 90,949,349\n",
      "Trainable params: 90,949,349\n",
      "Non-trainable params: 0\n",
      "_________________________________________________________________\n"
     ]
    }
   ],
   "source": [
    "model_1 = tf.keras.Sequential()\n",
    "\n",
    "# Conv Layers 1\n",
    "model_1.add(Conv2D(filters=32, kernel_size=(3,3), input_shape=(300,300, 3), activation='relu'))\n",
    "\n",
    "model_1.add(MaxPool2D(pool_size=(2,2)))\n",
    "\n",
    "model_1.add(Flatten())\n",
    "\n",
    "model_1.add(Dense(128 , activation='relu'))\n",
    "\n",
    "# Dropout layers: it helps reduce overfitting by randomly turning off neurons during training\n",
    "model_1.add(Dropout(0.5))\n",
    "\n",
    "model_1.add(Dense(101, activation='softmax'))\n",
    "\n",
    "\n",
    "model_1.compile(loss=LOSS, optimizer=OPTIMIZER, metrics=[METRICS])\n",
    "model_1.summary()"
   ]
  },
  {
   "cell_type": "code",
   "execution_count": 37,
   "id": "ad54ee01",
   "metadata": {},
   "outputs": [
    {
     "name": "stdout",
     "output_type": "stream",
     "text": [
      "Epoch 1/5\n",
      "10/10 [==============================] - 1290s 142s/step - loss: 43.7265 - accuracy: 0.0100 - val_loss: 5.4211 - val_accuracy: 0.0099\n",
      "Epoch 2/5\n",
      "10/10 [==============================] - 551s 61s/step - loss: 4.9224 - accuracy: 0.0100 - val_loss: 4.9386 - val_accuracy: 0.0100\n",
      "Epoch 3/5\n",
      "10/10 [==============================] - 548s 61s/step - loss: 4.6652 - accuracy: 0.0100 - val_loss: 4.6158 - val_accuracy: 0.0099\n",
      "Epoch 4/5\n",
      "10/10 [==============================] - 549s 61s/step - loss: 4.6427 - accuracy: 0.0100 - val_loss: 4.6159 - val_accuracy: 0.0099\n",
      "Epoch 5/5\n",
      "10/10 [==============================] - 553s 61s/step - loss: 4.6149 - accuracy: 0.0100 - val_loss: 4.6160 - val_accuracy: 0.0099\n"
     ]
    }
   ],
   "source": [
    "history_model_1 = model_1.fit(train_ds, epochs=5,steps_per_epoch= 10,  validation_data=test_ds,callbacks=[csv_logger])"
   ]
  },
  {
   "cell_type": "code",
   "execution_count": 38,
   "id": "85bb67a3",
   "metadata": {},
   "outputs": [],
   "source": [
    "# model_1.save('model_exp1_base.h5')"
   ]
  },
  {
   "cell_type": "code",
   "execution_count": 45,
   "id": "f8940562",
   "metadata": {},
   "outputs": [
    {
     "data": {
      "image/png": "[encoded data removed]",
      "text/plain": [
       "<Figure size 432x288 with 1 Axes>"
      ]
     },
     "metadata": {
      "needs_background": "light"
     },
     "output_type": "display_data"
    },
    {
     "data": {
      "image/png": "[encoded data removed]",
      "text/plain": [
       "<Figure size 432x288 with 1 Axes>"
      ]
     },
     "metadata": {
      "needs_background": "light"
     },
     "output_type": "display_data"
    }
   ],
   "source": [
    "def plot_accuracy(history, output_dir, model_name):\n",
    "    \n",
    "    plt.plot(history.history['accuracy'],label='train accuracy')\n",
    "    plt.plot(history.history['val_accuracy'],label='validation accuracy')\n",
    "    plt.title('Model accuracy')\n",
    "    plt.ylabel('Accuracy')\n",
    "    plt.xlabel('Epoch')\n",
    "    plt.legend(loc='best')\n",
    "    plt.savefig(f\"{output_dir}/accuracy_{model_name}\")\n",
    "    plt.show()\n",
    "    \n",
    "def plot_loss(history, output_dir, model_name):\n",
    "    \n",
    "    plt.plot(history.history['loss'],label=\"train loss\")\n",
    "    plt.plot(history.history['val_loss'],label=\"validation loss\")\n",
    "    plt.title('Model loss')\n",
    "    plt.ylabel('Loss')\n",
    "    plt.xlabel('Epoch')\n",
    "    plt.legend(loc='best')\n",
    "    plt.savefig(f\"{output_dir}/loss_{model_name}\")\n",
    "    plt.show()\n",
    "    \n",
    "plot_accuracy(history_model_1,OUTPUT_FIGURE_DIR, 'model_exp1_base')\n",
    "plot_loss(history_model_1, OUTPUT_FIGURE_DIR, 'model_exp1_base')\n",
    "\n"
   ]
  },
  {
   "cell_type": "code",
   "execution_count": null,
   "id": "25b36a88",
   "metadata": {},
   "outputs": [],
   "source": []
  }
 ],
 "metadata": {
  "kernelspec": {
   "display_name": "Python 3 (ipykernel)",
   "language": "python",
   "name": "python3"
  },
  "language_info": {
   "codemirror_mode": {
    "name": "ipython",
    "version": 3
   },
   "file_extension": ".py",
   "mimetype": "text/x-python",
   "name": "python",
   "nbconvert_exporter": "python",
   "pygments_lexer": "ipython3",
   "version": "3.9.7"
  }
 },
 "nbformat": 4,
 "nbformat_minor": 5
}
