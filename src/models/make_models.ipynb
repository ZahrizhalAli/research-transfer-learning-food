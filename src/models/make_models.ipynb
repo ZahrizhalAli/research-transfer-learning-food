{
 "cells": [
  {
   "cell_type": "code",
   "execution_count": 8,
   "id": "034967dd",
   "metadata": {},
   "outputs": [],
   "source": [
    "import tensorflow as tf\n",
    "import numpy as np\n",
    "import pandas as pd\n",
    "import tensorflow_datasets as tfds\n",
    "import sys\n",
    "import matplotlib.pyplot as plt\n",
    "from tensorflow.keras.layers import Conv2D, MaxPool2D, Flatten, Dropout, Dense, MaxPooling2D\n",
    "from tensorflow.keras.preprocessing.image import ImageDataGenerator\n",
    "sys.path.append('../data/')\n",
    "import make_dataset"
   ]
  },
  {
   "cell_type": "markdown",
   "id": "20934bd5",
   "metadata": {},
   "source": [
    "# Naming Convention\n",
    "\n",
    "Log_CSV = log_csv_exp[num].log\n",
    "\n",
    "Model = model_exp[num]_[tf-learning]/simple.h5\n"
   ]
  },
  {
   "cell_type": "markdown",
   "id": "1c289d69",
   "metadata": {},
   "source": [
    "# Simple model baseline\n",
    "\n",
    "model baseline accuracy = 60%"
   ]
  },
  {
   "cell_type": "code",
   "execution_count": 2,
   "id": "b167ed7b",
   "metadata": {},
   "outputs": [],
   "source": [
    "DATA_DIR = \"../../data/interim/archive/images/\"\n",
    "BATCH_SIZE = 10\n",
    "SPLIT_SIZE = 0.3\n",
    "\n",
    "\n",
    "OUTPUT_FIGURE_DIR = \"../../reports/figures\""
   ]
  },
  {
   "cell_type": "code",
   "execution_count": 3,
   "id": "2ca1eb1b",
   "metadata": {},
   "outputs": [],
   "source": [
    "def train_val_generators(DATA_DIR, SPLIT_SIZE, NUM_BATCHES):\n",
    "    \"\"\"\n",
    "\n",
    "    :param DATA_DIR: Directory of the datasets was taken from (string)\n",
    "    :param SPLIT_SIZE: Split size of test set. (float)\n",
    "    :param NUM_BATCHES: Amount of batch size\n",
    "    :return:\n",
    "    \"\"\"\n",
    "    datagen = ImageDataGenerator(rescale=1. / 255, validation_split=SPLIT_SIZE)\n",
    "    train_generator = datagen.flow_from_directory(directory=DATA_DIR,\n",
    "                                                  batch_size=NUM_BATCHES,\n",
    "                                                  class_mode='categorical',\n",
    "                                                  target_size=(300, 300),\n",
    "                                                  subset='training',\n",
    "                                                    shuffle = True,\n",
    "\n",
    "    )\n",
    "\n",
    "    validation_generator = datagen.flow_from_directory(directory=DATA_DIR,\n",
    "                                                       subset='validation',\n",
    "                                                       batch_size=NUM_BATCHES,\n",
    "                                                       class_mode='categorical',\n",
    "                                                       shuffle=True,\n",
    "                                                       target_size=(300, 300))\n",
    "\n",
    "    return train_generator, validation_generator"
   ]
  },
  {
   "cell_type": "code",
   "execution_count": 11,
   "id": "3e292267",
   "metadata": {},
   "outputs": [
    {
     "name": "stdout",
     "output_type": "stream",
     "text": [
      "Found 70700 images belonging to 101 classes.\n",
      "Found 30300 images belonging to 101 classes.\n"
     ]
    }
   ],
   "source": [
    "train_ds, test_ds = train_val_generators(DATA_DIR, SPLIT_SIZE, BATCH_SIZE)"
   ]
  },
  {
   "cell_type": "markdown",
   "id": "a75893b0",
   "metadata": {},
   "source": [
    "# Callbacks"
   ]
  },
  {
   "cell_type": "code",
   "execution_count": 4,
   "id": "ba6fa85e",
   "metadata": {},
   "outputs": [],
   "source": [
    "csv_logger = tf.keras.callbacks.CSVLogger('log_csv_exp1.log')\n",
    "\n",
    "\n",
    "def create_csv_logger(dirname, name):\n",
    "    return tf.keras.callbacks.CSVLogger(f\"{dirname}/{name}\")"
   ]
  },
  {
   "cell_type": "markdown",
   "id": "f6fd4f14",
   "metadata": {},
   "source": [
    "# Plotting function"
   ]
  },
  {
   "cell_type": "code",
   "execution_count": 5,
   "id": "bff49b6f",
   "metadata": {},
   "outputs": [],
   "source": [
    "def plot_accuracy(history, output_dir, model_name):\n",
    "    \n",
    "    plt.plot(history.history['accuracy'],label='train accuracy')\n",
    "    plt.plot(history.history['val_accuracy'],label='validation accuracy')\n",
    "    plt.title('Model accuracy')\n",
    "    plt.ylabel('Accuracy')\n",
    "    plt.xlabel('Epoch')\n",
    "    plt.legend(loc='best')\n",
    "    plt.savefig(f\"{output_dir}/accuracy_{model_name}\")\n",
    "    plt.show()\n",
    "    \n",
    "def plot_loss(history, output_dir, model_name):\n",
    "    \n",
    "    plt.plot(history.history['loss'],label=\"train loss\")\n",
    "    plt.plot(history.history['val_loss'],label=\"validation loss\")\n",
    "    plt.title('Model loss')\n",
    "    plt.ylabel('Loss')\n",
    "    plt.xlabel('Epoch')\n",
    "    plt.legend(loc='best')\n",
    "    plt.savefig(f\"{output_dir}/loss_{model_name}\")\n",
    "    plt.show()"
   ]
  },
  {
   "cell_type": "markdown",
   "id": "669906a6",
   "metadata": {},
   "source": [
    "# Model_1 (DONE : no need to re run)"
   ]
  },
  {
   "cell_type": "code",
   "execution_count": 34,
   "id": "4f63e2e5",
   "metadata": {},
   "outputs": [],
   "source": [
    "OPTIMIZER = 'adam'\n",
    "LOSS = 'categorical_crossentropy'\n",
    "METRICS = ['accuracy']"
   ]
  },
  {
   "cell_type": "code",
   "execution_count": 36,
   "id": "3e1b4eda",
   "metadata": {},
   "outputs": [
    {
     "name": "stdout",
     "output_type": "stream",
     "text": [
      "Model: \"sequential_6\"\n",
      "_________________________________________________________________\n",
      " Layer (type)                Output Shape              Param #   \n",
      "=================================================================\n",
      " conv2d_5 (Conv2D)           (None, 298, 298, 32)      896       \n",
      "                                                                 \n",
      " max_pooling2d_3 (MaxPooling  (None, 149, 149, 32)     0         \n",
      " 2D)                                                             \n",
      "                                                                 \n",
      " flatten_3 (Flatten)         (None, 710432)            0         \n",
      "                                                                 \n",
      " dense_6 (Dense)             (None, 128)               90935424  \n",
      "                                                                 \n",
      " dropout_3 (Dropout)         (None, 128)               0         \n",
      "                                                                 \n",
      " dense_7 (Dense)             (None, 101)               13029     \n",
      "                                                                 \n",
      "=================================================================\n",
      "Total params: 90,949,349\n",
      "Trainable params: 90,949,349\n",
      "Non-trainable params: 0\n",
      "_________________________________________________________________\n"
     ]
    }
   ],
   "source": [
    "model_1 = tf.keras.Sequential()\n",
    "\n",
    "# Conv Layers 1\n",
    "model_1.add(Conv2D(filters=32, kernel_size=(3,3), input_shape=(300,300, 3), activation='relu'))\n",
    "\n",
    "model_1.add(MaxPool2D(pool_size=(2,2)))\n",
    "\n",
    "model_1.add(Flatten())\n",
    "\n",
    "model_1.add(Dense(128 , activation='relu'))\n",
    "\n",
    "# Dropout layers: it helps reduce overfitting by randomly turning off neurons during training\n",
    "model_1.add(Dropout(0.5))\n",
    "\n",
    "model_1.add(Dense(101, activation='softmax'))\n",
    "\n",
    "\n",
    "model_1.compile(loss=LOSS, optimizer=OPTIMIZER, metrics=[METRICS])\n",
    "model_1.summary()"
   ]
  },
  {
   "cell_type": "code",
   "execution_count": 37,
   "id": "f8fbe220",
   "metadata": {},
   "outputs": [
    {
     "name": "stdout",
     "output_type": "stream",
     "text": [
      "Epoch 1/5\n",
      "10/10 [==============================] - 1290s 142s/step - loss: 43.7265 - accuracy: 0.0100 - val_loss: 5.4211 - val_accuracy: 0.0099\n",
      "Epoch 2/5\n",
      "10/10 [==============================] - 551s 61s/step - loss: 4.9224 - accuracy: 0.0100 - val_loss: 4.9386 - val_accuracy: 0.0100\n",
      "Epoch 3/5\n",
      "10/10 [==============================] - 548s 61s/step - loss: 4.6652 - accuracy: 0.0100 - val_loss: 4.6158 - val_accuracy: 0.0099\n",
      "Epoch 4/5\n",
      "10/10 [==============================] - 549s 61s/step - loss: 4.6427 - accuracy: 0.0100 - val_loss: 4.6159 - val_accuracy: 0.0099\n",
      "Epoch 5/5\n",
      "10/10 [==============================] - 553s 61s/step - loss: 4.6149 - accuracy: 0.0100 - val_loss: 4.6160 - val_accuracy: 0.0099\n"
     ]
    }
   ],
   "source": [
    "history_model_1 = model_1.fit(train_ds, epochs=5,steps_per_epoch= 10,  validation_data=test_ds,callbacks=[csv_logger])"
   ]
  },
  {
   "cell_type": "code",
   "execution_count": 38,
   "id": "24d95848",
   "metadata": {},
   "outputs": [],
   "source": [
    "# model_1.save('model_exp1_base.h5')"
   ]
  },
  {
   "cell_type": "code",
   "execution_count": 45,
   "id": "6352f3a6",
   "metadata": {},
   "outputs": [
    {
     "data": {
      "image/png": "[encoded data removed]",
      "text/plain": [
       "<Figure size 432x288 with 1 Axes>"
      ]
     },
     "metadata": {
      "needs_background": "light"
     },
     "output_type": "display_data"
    },
    {
     "data": {
      "image/png": "[encoded data removed]",
      "text/plain": [
       "<Figure size 432x288 with 1 Axes>"
      ]
     },
     "metadata": {
      "needs_background": "light"
     },
     "output_type": "display_data"
    }
   ],
   "source": [
    "\n",
    "    \n",
    "plot_accuracy(history_model_1,OUTPUT_FIGURE_DIR, 'model_exp1_base')\n",
    "plot_loss(history_model_1, OUTPUT_FIGURE_DIR, 'model_exp1_base')\n",
    "\n"
   ]
  },
  {
   "cell_type": "markdown",
   "id": "3e7464de",
   "metadata": {},
   "source": [
    "# Model 2 _ VGG Net (Not Transfer Learning) \n",
    "\n",
    "### VGG Net (Visual Geometry Group)"
   ]
  },
  {
   "cell_type": "code",
   "execution_count": 10,
   "id": "bf83e9cc",
   "metadata": {},
   "outputs": [],
   "source": [
    "OPTIMIZER = 'adam'\n",
    "LOSS = 'categorical_crossentropy'\n",
    "METRICS = ['accuracy']\n",
    "\n",
    "csv_logger = create_csv_logger('../../reports', \"/log_csv_vgg_custom_exp1.log\")"
   ]
  },
  {
   "cell_type": "code",
   "execution_count": 13,
   "id": "b9123c08",
   "metadata": {},
   "outputs": [
    {
     "name": "stdout",
     "output_type": "stream",
     "text": [
      "Model: \"sequential_2\"\n",
      "_________________________________________________________________\n",
      " Layer (type)                Output Shape              Param #   \n",
      "=================================================================\n",
      " conv2d_8 (Conv2D)           (None, 300, 300, 32)      896       \n",
      "                                                                 \n",
      " dropout_8 (Dropout)         (None, 300, 300, 32)      0         \n",
      "                                                                 \n",
      " conv2d_9 (Conv2D)           (None, 300, 300, 32)      9248      \n",
      "                                                                 \n",
      " dropout_9 (Dropout)         (None, 300, 300, 32)      0         \n",
      "                                                                 \n",
      " max_pooling2d_3 (MaxPooling  (None, 150, 150, 32)     0         \n",
      " 2D)                                                             \n",
      "                                                                 \n",
      " conv2d_10 (Conv2D)          (None, 150, 150, 64)      18496     \n",
      "                                                                 \n",
      " dropout_10 (Dropout)        (None, 150, 150, 64)      0         \n",
      "                                                                 \n",
      " conv2d_11 (Conv2D)          (None, 150, 150, 64)      36928     \n",
      "                                                                 \n",
      " dropout_11 (Dropout)        (None, 150, 150, 64)      0         \n",
      "                                                                 \n",
      " max_pooling2d_4 (MaxPooling  (None, 75, 75, 64)       0         \n",
      " 2D)                                                             \n",
      "                                                                 \n",
      " conv2d_12 (Conv2D)          (None, 75, 75, 128)       73856     \n",
      "                                                                 \n",
      " dropout_12 (Dropout)        (None, 75, 75, 128)       0         \n",
      "                                                                 \n",
      " conv2d_13 (Conv2D)          (None, 75, 75, 128)       147584    \n",
      "                                                                 \n",
      " dropout_13 (Dropout)        (None, 75, 75, 128)       0         \n",
      "                                                                 \n",
      " max_pooling2d_5 (MaxPooling  (None, 37, 37, 128)      0         \n",
      " 2D)                                                             \n",
      "                                                                 \n",
      " flatten_1 (Flatten)         (None, 175232)            0         \n",
      "                                                                 \n",
      " dense_1 (Dense)             (None, 101)               17698533  \n",
      "                                                                 \n",
      "=================================================================\n",
      "Total params: 17,985,541\n",
      "Trainable params: 17,985,541\n",
      "Non-trainable params: 0\n",
      "_________________________________________________________________\n"
     ]
    }
   ],
   "source": [
    "custom_vgg_1 = tf.keras.Sequential()\n",
    "custom_vgg_1.add(Conv2D(32, (3, 3), strides = 1, padding = \"same\", activation = \"relu\", input_shape = (300, 300, 3)))\n",
    "custom_vgg_1.add(Dropout(0.4))\n",
    "custom_vgg_1.add(Conv2D(32, (3, 3), strides = 1, padding = \"same\", activation = \"relu\"))\n",
    "custom_vgg_1.add(Dropout(0.4))\n",
    "custom_vgg_1.add(MaxPooling2D((2, 2)))\n",
    "\n",
    "custom_vgg_1.add(Conv2D(64, (3, 3), strides = 1, padding = \"same\", activation = \"relu\"))\n",
    "custom_vgg_1.add(Dropout(0.4))\n",
    "custom_vgg_1.add(Conv2D(64, (3, 3), strides = 1, padding = \"same\", activation = \"relu\"))\n",
    "custom_vgg_1.add(Dropout(0.4))\n",
    "custom_vgg_1.add(MaxPooling2D((2, 2)))\n",
    "\n",
    "custom_vgg_1.add(Conv2D(128, (3, 3), strides = 1, padding = \"same\", activation = \"relu\"))\n",
    "custom_vgg_1.add(Dropout(0.4))\n",
    "custom_vgg_1.add(Conv2D(128, (3, 3), strides = 1, padding = \"same\", activation = \"relu\"))\n",
    "custom_vgg_1.add(Dropout(0.4))\n",
    "custom_vgg_1.add(MaxPooling2D((2, 2)))\n",
    "\n",
    "custom_vgg_1.add(Flatten())\n",
    "custom_vgg_1.add(Dense(101, activation = \"softmax\"))\n",
    "\n",
    "custom_vgg_1.compile(optimizer = OPTIMIZER, loss = LOSS, metrics = METRICS)\n",
    "\n",
    "custom_vgg_1.summary()\n"
   ]
  },
  {
   "cell_type": "code",
   "execution_count": 14,
   "id": "5c89ec52",
   "metadata": {},
   "outputs": [
    {
     "name": "stdout",
     "output_type": "stream",
     "text": [
      "Epoch 1/5\n",
      "10/10 [==============================] - 2654s 294s/step - loss: 12.8070 - accuracy: 0.0200 - val_loss: 4.6151 - val_accuracy: 0.0099\n",
      "Epoch 2/5\n",
      "10/10 [==============================] - 2555s 282s/step - loss: 4.6164 - accuracy: 0.0100 - val_loss: 4.6151 - val_accuracy: 0.0099\n",
      "Epoch 3/5\n",
      "10/10 [==============================] - 2648s 294s/step - loss: 4.6128 - accuracy: 0.0100 - val_loss: 4.6152 - val_accuracy: 0.0099\n",
      "Epoch 4/5\n",
      "10/10 [==============================] - 2596s 288s/step - loss: 4.6270 - accuracy: 0.0300 - val_loss: 4.6152 - val_accuracy: 0.0099\n",
      "Epoch 5/5\n",
      "10/10 [==============================] - 2549s 283s/step - loss: 4.6149 - accuracy: 0.0000e+00 - val_loss: 4.6152 - val_accuracy: 0.0099\n"
     ]
    }
   ],
   "source": [
    "history_model_2 = custom_vgg_1.fit(train_ds, epochs=5,steps_per_epoch= 10,  validation_data=test_ds,callbacks=[csv_logger])"
   ]
  },
  {
   "cell_type": "code",
   "execution_count": 15,
   "id": "bfe29074",
   "metadata": {},
   "outputs": [
    {
     "data": {
      "text/plain": [
       "<AxesSubplot:>"
      ]
     },
     "execution_count": 15,
     "metadata": {},
     "output_type": "execute_result"
    },
    {
     "data": {
      "image/png": "[encoded data removed]",
      "text/plain": [
       "<Figure size 432x288 with 1 Axes>"
      ]
     },
     "metadata": {
      "needs_background": "light"
     },
     "output_type": "display_data"
    }
   ],
   "source": [
    "pd.DataFrame(history_model_2.history).plot()"
   ]
  },
  {
   "cell_type": "code",
   "execution_count": 16,
   "id": "721295b8",
   "metadata": {},
   "outputs": [
    {
     "name": "stdout",
     "output_type": "stream",
     "text": [
      "Model: \"sequential_3\"\n",
      "_________________________________________________________________\n",
      " Layer (type)                Output Shape              Param #   \n",
      "=================================================================\n",
      " conv2d_14 (Conv2D)          (None, 300, 300, 32)      896       \n",
      "                                                                 \n",
      " dropout_14 (Dropout)        (None, 300, 300, 32)      0         \n",
      "                                                                 \n",
      " conv2d_15 (Conv2D)          (None, 300, 300, 32)      9248      \n",
      "                                                                 \n",
      " dropout_15 (Dropout)        (None, 300, 300, 32)      0         \n",
      "                                                                 \n",
      " max_pooling2d_6 (MaxPooling  (None, 150, 150, 32)     0         \n",
      " 2D)                                                             \n",
      "                                                                 \n",
      " conv2d_16 (Conv2D)          (None, 150, 150, 64)      18496     \n",
      "                                                                 \n",
      " dropout_16 (Dropout)        (None, 150, 150, 64)      0         \n",
      "                                                                 \n",
      " conv2d_17 (Conv2D)          (None, 150, 150, 64)      36928     \n",
      "                                                                 \n",
      " dropout_17 (Dropout)        (None, 150, 150, 64)      0         \n",
      "                                                                 \n",
      " max_pooling2d_7 (MaxPooling  (None, 75, 75, 64)       0         \n",
      " 2D)                                                             \n",
      "                                                                 \n",
      " conv2d_18 (Conv2D)          (None, 75, 75, 128)       73856     \n",
      "                                                                 \n",
      " dropout_18 (Dropout)        (None, 75, 75, 128)       0         \n",
      "                                                                 \n",
      " conv2d_19 (Conv2D)          (None, 75, 75, 128)       147584    \n",
      "                                                                 \n",
      " dropout_19 (Dropout)        (None, 75, 75, 128)       0         \n",
      "                                                                 \n",
      " max_pooling2d_8 (MaxPooling  (None, 37, 37, 128)      0         \n",
      " 2D)                                                             \n",
      "                                                                 \n",
      " flatten_2 (Flatten)         (None, 175232)            0         \n",
      "                                                                 \n",
      " dense_2 (Dense)             (None, 101)               17698533  \n",
      "                                                                 \n",
      "=================================================================\n",
      "Total params: 17,985,541\n",
      "Trainable params: 17,985,541\n",
      "Non-trainable params: 0\n",
      "_________________________________________________________________\n"
     ]
    }
   ],
   "source": [
    "tf.random.set_seed(42)\n",
    "\n",
    "custom_vgg_1 = tf.keras.Sequential()\n",
    "custom_vgg_1.add(Conv2D(32, (3, 3), strides = 1, padding = \"same\", activation = \"relu\", input_shape = (300, 300, 3)))\n",
    "custom_vgg_1.add(Dropout(0.4))\n",
    "custom_vgg_1.add(Conv2D(32, (3, 3), strides = 1, padding = \"same\", activation = \"relu\"))\n",
    "custom_vgg_1.add(Dropout(0.4))\n",
    "custom_vgg_1.add(MaxPooling2D((2, 2)))\n",
    "\n",
    "custom_vgg_1.add(Conv2D(64, (3, 3), strides = 1, padding = \"same\", activation = \"relu\"))\n",
    "custom_vgg_1.add(Dropout(0.4))\n",
    "custom_vgg_1.add(Conv2D(64, (3, 3), strides = 1, padding = \"same\", activation = \"relu\"))\n",
    "custom_vgg_1.add(Dropout(0.4))\n",
    "custom_vgg_1.add(MaxPooling2D((2, 2)))\n",
    "\n",
    "custom_vgg_1.add(Conv2D(128, (3, 3), strides = 1, padding = \"same\", activation = \"relu\"))\n",
    "custom_vgg_1.add(Dropout(0.4))\n",
    "custom_vgg_1.add(Conv2D(128, (3, 3), strides = 1, padding = \"same\", activation = \"relu\"))\n",
    "custom_vgg_1.add(Dropout(0.4))\n",
    "custom_vgg_1.add(MaxPooling2D((2, 2)))\n",
    "\n",
    "custom_vgg_1.add(Flatten())\n",
    "custom_vgg_1.add(Dense(101, activation = \"softmax\"))\n",
    "\n",
    "custom_vgg_1.compile(optimizer = tf.keras.optimizers.Adam(learning_rate=0.03), loss = LOSS, metrics = METRICS)\n",
    "\n",
    "custom_vgg_1.summary()\n"
   ]
  },
  {
   "cell_type": "code",
   "execution_count": 17,
   "id": "c6c76094",
   "metadata": {},
   "outputs": [],
   "source": [
    "csv_logger = create_csv_logger('../../reports', \"/log_csv_vgg_custom_exp2.log\")"
   ]
  },
  {
   "cell_type": "code",
   "execution_count": 18,
   "id": "14f1469a",
   "metadata": {},
   "outputs": [
    {
     "name": "stdout",
     "output_type": "stream",
     "text": [
      "Epoch 1/5\n",
      "10/10 [==============================] - 2625s 290s/step - loss: 340503.1562 - accuracy: 0.0000e+00 - val_loss: 4.6223 - val_accuracy: 0.0099\n",
      "Epoch 2/5\n",
      "10/10 [==============================] - 2266s 251s/step - loss: 4.6317 - accuracy: 0.0000e+00 - val_loss: 4.6347 - val_accuracy: 0.0099\n",
      "Epoch 3/5\n",
      "10/10 [==============================] - 2310s 256s/step - loss: 4.6494 - accuracy: 0.0100 - val_loss: 4.6427 - val_accuracy: 0.0099\n",
      "Epoch 4/5\n",
      "10/10 [==============================] - 2334s 259s/step - loss: 4.6559 - accuracy: 0.0100 - val_loss: 4.6443 - val_accuracy: 0.0099\n",
      "Epoch 5/5\n",
      "10/10 [==============================] - 2126s 236s/step - loss: 4.6419 - accuracy: 0.0000e+00 - val_loss: 4.6442 - val_accuracy: 0.0099\n"
     ]
    }
   ],
   "source": [
    "history_model_3 = custom_vgg_1.fit(train_ds, epochs=5,steps_per_epoch= 10,  validation_data=test_ds,callbacks=[csv_logger])"
   ]
  },
  {
   "cell_type": "code",
   "execution_count": null,
   "id": "f419613a",
   "metadata": {},
   "outputs": [],
   "source": []
  }
 ],
 "metadata": {
  "kernelspec": {
   "display_name": "Python 3 (ipykernel)",
   "language": "python",
   "name": "python3"
  },
  "language_info": {
   "codemirror_mode": {
    "name": "ipython",
    "version": 3
   },
   "file_extension": ".py",
   "mimetype": "text/x-python",
   "name": "python",
   "nbconvert_exporter": "python",
   "pygments_lexer": "ipython3",
   "version": "3.9.7"
  }
 },
 "nbformat": 4,
 "nbformat_minor": 5
}
